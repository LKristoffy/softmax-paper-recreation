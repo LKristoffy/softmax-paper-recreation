{
 "cells": [
  {
   "cell_type": "markdown",
   "metadata": {},
   "source": [
    "## Softmax is not enough recreation\n",
    "\n",
    "- This is a simple recreation of the main results in the paper **\"softmax is not enough (for sharp out-of-distribution)\", Veličković et al. 2024.**\n",
    "\n",
    "- This notebook intends to only show the main results of the **toy model max retrieval task, comparing \"vanilla\" (contant softmax temperature of 1) and adaptive temperature softmax.** \n",
    "\n",
    "- This is supportive material for my **Medium article.**"
   ]
  },
  {
   "cell_type": "code",
   "execution_count": 2,
   "metadata": {},
   "outputs": [],
   "source": [
    "# Import the necessary libraries, we will be using JAX and Flax as per the original paper\n",
    "import jax\n",
    "import jax.numpy as jnp\n",
    "from flax import linen as nn\n",
    "from flax.training import train_state\n",
    "import jax.random as random\n",
    "import optax\n",
    "from typing import Callable"
   ]
  },
  {
   "cell_type": "code",
   "execution_count": 3,
   "metadata": {},
   "outputs": [],
   "source": [
    "#Set intial random seed\n",
    "seed=0"
   ]
  },
  {
   "cell_type": "markdown",
   "metadata": {},
   "source": [
    "## Data Generation"
   ]
  },
  {
   "cell_type": "markdown",
   "metadata": {},
   "source": [
    "Here we will be generating data for our task, as described in the original paper in section \"A.2 Data generation\". The main points are as follows:\n",
    "\n",
    "- $n$ describes the number of items in the set to classify (this will be increased during inference to demonstrate out-of-distribution degradation).\n",
    "- For each item from $1 \\to n$, we will make a priority value $\\rho$ (\"Rho\"), for which we want our model to pick the maxiumum value out of the $n$ items.\n",
    "- To make this a classification task (so we can use cross-entropy loss), we append a class to each item, $\\kappa$ (\"Kappa\"), which is sampled uniformly from $C$ classes. ($\\kappa \\sim \\mathcal{U}\\{1,...,C\\}$). We will keep $C=10$ for the whole experiment as per the paper.\n",
    "- The class is appended to the priority value $\\rho$ as a one-hot encoded vector.\n",
    "- We then generate a query vector, for this task the query vector is irrelivent so we sample this as a uniformly sampled variable between 0 and 1 ($q \\sim \\mathcal{U}(0,1)$)\n",
    "- I am not sure how the original paper handled variable length sequences (differenet values of $n$) but I have used masking for this notebook, so I will append values of -1 to the x array to a maximum sequence length ($n$) of 4096"
   ]
  },
  {
   "cell_type": "code",
   "execution_count": 4,
   "metadata": {},
   "outputs": [],
   "source": [
    "#Jax requires a random key to be passed to the random number generator\n",
    "key = jax.random.PRNGKey(seed)\n",
    "\n",
    "\n",
    "def generate_max_retrieval_data(n, n_classes, batch_size, rng, feats=4096):\n",
    "    #Split the random key into 4 keys for generating 4 different random numbers\n",
    "    rng, rho_key, kappa_key, q_key = jax.random.split(rng, 4)\n",
    "\n",
    "    # Generate priority values\n",
    "    rho = random.uniform(rho_key, (batch_size, n, 1))\n",
    "    \n",
    "    # Generate class labels\n",
    "    kappa = random.randint(kappa_key, (batch_size, n), 0, n_classes)\n",
    "    \n",
    "    # One-hot encode class labels\n",
    "    kappa_onehot = jax.nn.one_hot(kappa, n_classes)\n",
    "    \n",
    "    # Concatenate priority values and one-hot encoded class labels\n",
    "    x = jnp.concatenate([rho, kappa_onehot], axis=-1)\n",
    "    x = jnp.concatenate([x, jnp.full((batch_size,feats-n, n_classes+1), -1)], axis=1) \n",
    "    \n",
    "    # Generate query vector\n",
    "    q = random.uniform(q_key, (batch_size, 1, 1))\n",
    "\n",
    "\n",
    "    # Determine the target class of the maximal item\n",
    "    max_ind = jnp.argmax(rho, axis=1)[:,0]\n",
    "    targets = jax.nn.one_hot(kappa[jnp.arange(batch_size), max_ind], n_classes)\n",
    "    \n",
    "    return x, q, targets\n"
   ]
  },
  {
   "cell_type": "markdown",
   "metadata": {},
   "source": [
    "Here we are checking correct shapes of the data. Features should be of shape (batch_size, max_seq_length, n_classes + 1), queries should be (batch_size, 1, 1), the targets (largest class) should be (batch_size, n_classes)"
   ]
  },
  {
   "cell_type": "code",
   "execution_count": 5,
   "metadata": {},
   "outputs": [
    {
     "name": "stdout",
     "output_type": "stream",
     "text": [
      "Features shape: (10, 4096, 11)\n",
      "Queries shape: (10, 1, 1)\n",
      "Targets shape: (10, 10)\n"
     ]
    }
   ],
   "source": [
    "\n",
    "n = 5   # Number of items in the set\n",
    "C = 10  # Number of classes\n",
    "num_examples = 10  # Number of examples to generate\n",
    "\n",
    "features, queries, targets = generate_max_retrieval_data(n, C, num_examples, key)\n",
    "\n",
    "print(\"Features shape:\", features.shape)  # Should be (num_examples, feats, C+1)\n",
    "print(\"Queries shape:\", queries.shape)    # Should be (num_examples, 1, 1)\n",
    "print(\"Targets shape:\", targets.shape)    # Should be (num_examples, C)"
   ]
  },
  {
   "cell_type": "code",
   "execution_count": 6,
   "metadata": {},
   "outputs": [
    {
     "name": "stdout",
     "output_type": "stream",
     "text": [
      "**********\n",
      "________\n",
      "[[ 0.16824102  0.          0.         ...  0.          0.\n",
      "   1.        ]\n",
      " [ 0.7228373   0.          0.         ...  0.          0.\n",
      "   0.        ]\n",
      " [ 0.04095995  0.          0.         ...  0.          0.\n",
      "   0.        ]\n",
      " ...\n",
      " [-1.         -1.         -1.         ... -1.         -1.\n",
      "  -1.        ]\n",
      " [-1.         -1.         -1.         ... -1.         -1.\n",
      "  -1.        ]\n",
      " [-1.         -1.         -1.         ... -1.         -1.\n",
      "  -1.        ]]\n",
      "________\n",
      "[[0.21033502]]\n",
      "________\n",
      "[0. 0. 0. 0. 0. 0. 0. 0. 1. 0.]\n",
      "**********\n",
      "________\n",
      "[[ 0.82459986  0.          0.         ...  0.          0.\n",
      "   1.        ]\n",
      " [ 0.9941201   0.          0.         ...  0.          0.\n",
      "   0.        ]\n",
      " [ 0.12593412  1.          0.         ...  0.          0.\n",
      "   0.        ]\n",
      " ...\n",
      " [-1.         -1.         -1.         ... -1.         -1.\n",
      "  -1.        ]\n",
      " [-1.         -1.         -1.         ... -1.         -1.\n",
      "  -1.        ]\n",
      " [-1.         -1.         -1.         ... -1.         -1.\n",
      "  -1.        ]]\n",
      "________\n",
      "[[0.9409394]]\n",
      "________\n",
      "[0. 0. 0. 1. 0. 0. 0. 0. 0. 0.]\n",
      "**********\n",
      "________\n",
      "[[ 0.5909729   0.          0.         ...  0.          0.\n",
      "   0.        ]\n",
      " [ 0.97887695  0.          0.         ...  0.          0.\n",
      "   0.        ]\n",
      " [ 0.6404309   1.          0.         ...  0.          0.\n",
      "   0.        ]\n",
      " ...\n",
      " [-1.         -1.         -1.         ... -1.         -1.\n",
      "  -1.        ]\n",
      " [-1.         -1.         -1.         ... -1.         -1.\n",
      "  -1.        ]\n",
      " [-1.         -1.         -1.         ... -1.         -1.\n",
      "  -1.        ]]\n",
      "________\n",
      "[[0.5580201]]\n",
      "________\n",
      "[0. 0. 0. 0. 1. 0. 0. 0. 0. 0.]\n",
      "**********\n",
      "________\n",
      "[[ 0.7692472   0.          0.         ...  0.          0.\n",
      "   0.        ]\n",
      " [ 0.07464862  0.          0.         ...  0.          0.\n",
      "   0.        ]\n",
      " [ 0.04942358  0.          0.         ...  0.          0.\n",
      "   0.        ]\n",
      " ...\n",
      " [-1.         -1.         -1.         ... -1.         -1.\n",
      "  -1.        ]\n",
      " [-1.         -1.         -1.         ... -1.         -1.\n",
      "  -1.        ]\n",
      " [-1.         -1.         -1.         ... -1.         -1.\n",
      "  -1.        ]]\n",
      "________\n",
      "[[0.39138484]]\n",
      "________\n",
      "[0. 1. 0. 0. 0. 0. 0. 0. 0. 0.]\n",
      "**********\n",
      "________\n",
      "[[ 0.7000792   0.          0.         ...  0.          0.\n",
      "   1.        ]\n",
      " [ 0.95164216  0.          0.         ...  0.          0.\n",
      "   0.        ]\n",
      " [ 0.14379478  0.          0.         ...  1.          0.\n",
      "   0.        ]\n",
      " ...\n",
      " [-1.         -1.         -1.         ... -1.         -1.\n",
      "  -1.        ]\n",
      " [-1.         -1.         -1.         ... -1.         -1.\n",
      "  -1.        ]\n",
      " [-1.         -1.         -1.         ... -1.         -1.\n",
      "  -1.        ]]\n",
      "________\n",
      "[[0.8263911]]\n",
      "________\n",
      "[0. 0. 0. 0. 1. 0. 0. 0. 0. 0.]\n"
     ]
    }
   ],
   "source": [
    "ind=5\n",
    "for i in range(ind):\n",
    "    print('*'*10)\n",
    "    for x in [features, queries, targets]:\n",
    "        print('________')\n",
    "        print(x[i])"
   ]
  },
  {
   "cell_type": "markdown",
   "metadata": {},
   "source": [
    "## Masking"
   ]
  },
  {
   "cell_type": "markdown",
   "metadata": {},
   "source": [
    "To deal with variable sequence lengths, we will be using masking in the attention head. The jax \"MultiHeadDotProductAttention\" has the option to pass an attention masks where a 1 value means keep value and 0 means mask value. The mask should be of shape (batch_size, n_heads, query_length, key_length), likely (128, 1, 1, 4096) during training."
   ]
  },
  {
   "cell_type": "code",
   "execution_count": 8,
   "metadata": {},
   "outputs": [],
   "source": [
    "from flax.typing import (\n",
    "  Dtype\n",
    ")\n",
    "Array = jax.Array\n",
    "\n",
    "@jax.jit\n",
    "def make_attention_mask(query_input: Array,\n",
    "                        key_input: Array,\n",
    "                        dtype: Dtype = jnp.float32):\n",
    "  \"\"\"Mask-making helper for attention weights.\n",
    "\n",
    "  \"\"\"\n",
    "\n",
    "#   query_mask = jnp.ones_like(query_input)\n",
    "#   key_mask = jnp.where(key_input == -1, 0, 1)\n",
    "#   query_mask = jnp.expand_dims(query_mask, axis=-2)\n",
    "#   key_mask = jnp.expand_dims(key_mask, axis=-2)\n",
    "\n",
    "#   mask = (jnp.einsum('...qhd,...khd->...hqk', query_mask, key_mask) != 0).astype(dtype)\n",
    "\n",
    "  return jnp.repeat(jnp.where(key_input[0,:,0] == -1, 0, 1)[None, None, None, :], key_input.shape[0], axis=0) # This is less computationally expensive than the einsum above but less intuitive"
   ]
  },
  {
   "cell_type": "code",
   "execution_count": 9,
   "metadata": {},
   "outputs": [
    {
     "name": "stdout",
     "output_type": "stream",
     "text": [
      "(10, 1, 1) (10, 4096, 11)\n",
      "(10, 1, 1, 4096)\n"
     ]
    }
   ],
   "source": [
    "print(queries.shape, features.shape)\n",
    "mask = make_attention_mask(queries, features)\n",
    "print(mask.shape)"
   ]
  },
  {
   "cell_type": "markdown",
   "metadata": {},
   "source": [
    "## Model"
   ]
  },
  {
   "cell_type": "markdown",
   "metadata": {},
   "source": [
    "First we will import custom functions from custom_flax_functions.py, these were copied from jax sourcecode but I have made a couple small alterations to allow for a custom softmax function and to return the attention weights from the \"MultiHeadDotProductAttention\". The model is mainly copied from the paper with a few small modifications for updating the softmax function and retrieing intermediate weights."
   ]
  },
  {
   "cell_type": "code",
   "execution_count": 10,
   "metadata": {},
   "outputs": [],
   "source": [
    "from custom_flax_funcs import MultiHeadDotProductAttention, dot_product_attention_with_adaptive_temp"
   ]
  },
  {
   "cell_type": "code",
   "execution_count": 34,
   "metadata": {},
   "outputs": [],
   "source": [
    "import jax.numpy as jnp\n",
    "from flax import linen as nn \n",
    "from typing import Callable\n",
    "from functools import partial\n",
    "class Model(nn.Module): \n",
    "    n_classes: int = 10\n",
    "    n_feats: int = 128\n",
    "    activation: Callable = nn.gelu\n",
    "    softmax_fnc: Callable = jax.nn.softmax\n",
    "    \n",
    "\n",
    "\n",
    "    @nn.compact\n",
    "    def __call__(self, x, q):\n",
    "        attention_fn: Callable = partial(dot_product_attention_with_adaptive_temp, softmax_fnc=self.softmax_fnc)\n",
    "        \n",
    "        mask = make_attention_mask(q, x)\n",
    "        x = nn.Dense(features=self.n_feats)(x)\n",
    "        x = self.activation(x)\n",
    "        x = nn.Dense(features=self.n_feats)(x)\n",
    "        x = self.activation(x)\n",
    "        q = nn.Dense(features=self.n_feats)(q)\n",
    "        q = self.activation(q)\n",
    "        q = nn.Dense(features=self.n_feats)(q)\n",
    "        q = self.activation(q)\n",
    "\n",
    "        # Save pre-attention head logits\n",
    "        self.sow('intermediates', 'pre_attention_logits', x)\n",
    "        \n",
    "        x, attention_weights = MultiHeadDotProductAttention(\n",
    "            num_heads=1,\n",
    "            qkv_features=self.n_feats,\n",
    "            attention_fn=attention_fn)(\n",
    "            inputs_q=q,\n",
    "            inputs_kv=x,\n",
    "            mask=mask)\n",
    "        \n",
    "        self.sow('intermediates', 'attention_weights', attention_weights)\n",
    "        x = nn.Dense(features=self.n_feats)(jnp.squeeze(x, -2)) \n",
    "        x = self.activation(x)\n",
    "        x = nn.Dense(features=self.n_classes)(x)\n",
    "        \n",
    "        return x"
   ]
  },
  {
   "cell_type": "markdown",
   "metadata": {},
   "source": [
    "## Training"
   ]
  },
  {
   "cell_type": "markdown",
   "metadata": {},
   "source": [
    "Below is the loss function and training loop, the training was mostly recreated using section \"A.4 Experimental hyperparameters\" section in the paper, with less training steps, no adaptive lr and smaller max number of items ($n$). This is to save my computational resources and my overall effort. The classification accuracy later will reflect this.\n",
    "\n",
    "The main point here is that the number of items in the task during training is sample uniformly from $n \\sim \\mathcal{U}\\{5,...,16\\}$ -- notice this is much smaller than the max sequence length of 4096 and is to demonstrate the out of distribution degradation during inference. Also, the model is trained on the \"vanilla\" softmax."
   ]
  },
  {
   "cell_type": "code",
   "execution_count": 12,
   "metadata": {},
   "outputs": [],
   "source": [
    "@jax.jit\n",
    "def cross_entropy_loss(logits, targets):\n",
    "    # Compute cross-entropy loss\n",
    "    log_probs = jax.nn.log_softmax(logits, axis=-1)\n",
    "    loss = -jnp.mean(jnp.sum(log_probs * targets, axis=-1))\n",
    "\n",
    "    return loss"
   ]
  },
  {
   "cell_type": "code",
   "execution_count": 12,
   "metadata": {},
   "outputs": [
    {
     "name": "stderr",
     "output_type": "stream",
     "text": [
      "  0%|          | 1/5000 [00:08<11:19:28,  8.16s/it]"
     ]
    },
    {
     "name": "stdout",
     "output_type": "stream",
     "text": [
      "Step 0: Loss = 3.4464\n"
     ]
    },
    {
     "name": "stderr",
     "output_type": "stream",
     "text": [
      " 20%|██        | 1001/5000 [52:28<6:03:03,  5.45s/it]"
     ]
    },
    {
     "name": "stdout",
     "output_type": "stream",
     "text": [
      "Step 1000: Loss = 0.4179\n"
     ]
    },
    {
     "name": "stderr",
     "output_type": "stream",
     "text": [
      " 40%|████      | 2001/5000 [1:46:33<4:29:33,  5.39s/it]"
     ]
    },
    {
     "name": "stdout",
     "output_type": "stream",
     "text": [
      "Step 2000: Loss = 0.3890\n"
     ]
    },
    {
     "name": "stderr",
     "output_type": "stream",
     "text": [
      " 60%|██████    | 3001/5000 [2:35:41<2:43:36,  4.91s/it]"
     ]
    },
    {
     "name": "stdout",
     "output_type": "stream",
     "text": [
      "Step 3000: Loss = 0.2659\n"
     ]
    },
    {
     "name": "stderr",
     "output_type": "stream",
     "text": [
      " 80%|████████  | 4001/5000 [3:22:36<1:23:03,  4.99s/it]"
     ]
    },
    {
     "name": "stdout",
     "output_type": "stream",
     "text": [
      "Step 4000: Loss = 0.2616\n"
     ]
    },
    {
     "name": "stderr",
     "output_type": "stream",
     "text": [
      "100%|██████████| 5000/5000 [4:15:10<00:00,  3.06s/it]  \n"
     ]
    }
   ],
   "source": [
    "from tqdm import tqdm\n",
    "\n",
    "def compute_loss(params, apply_fn, batch, l2_reg=0.001):\n",
    "    x, q, targets = batch\n",
    "    logits, intermediates = apply_fn({'params': params}, x, q, mutable=['intermediates'])  \n",
    "    \n",
    "    # Compute cross-entropy loss\n",
    "    loss = cross_entropy_loss(logits, targets)\n",
    "    \n",
    "    # Add L2 regularization\n",
    "    l2_loss = l2_reg * sum(jnp.sum(jnp.square(p)) for p in jax.tree_util.tree_leaves(params))\n",
    "    return loss + l2_loss\n",
    "\n",
    "# Update Step\n",
    "@jax.jit\n",
    "def train_step(state, batch):\n",
    "    def loss_fn(params):\n",
    "        return compute_loss(params, state.apply_fn, batch)\n",
    "    grads = jax.grad(loss_fn)(state.params)\n",
    "    state = state.apply_gradients(grads=grads)\n",
    "    return state\n",
    "\n",
    "# Training Configuration\n",
    "def train_model():\n",
    "    n_classes, n_feats, batch_size, num_steps = 10, 128, 128, 5000\n",
    "    learning_rate, l2_reg = 0.001, 0.001\n",
    "\n",
    "    # Initialize model and optimizer\n",
    "    model = Model(n_classes=n_classes, n_feats=n_feats)\n",
    "    rng = jax.random.PRNGKey(seed)\n",
    "    x_sample, q_sample, _ = generate_max_retrieval_data(20, n_classes, batch_size, rng)\n",
    "    params = model.init(rng, x_sample, q_sample)['params']\n",
    "\n",
    "    # Create optimizer and training state\n",
    "    tx = optax.adam(learning_rate=learning_rate)\n",
    "    state = train_state.TrainState.create(apply_fn=model.apply, params=params, tx=tx)\n",
    "    \n",
    "    for step in tqdm(range(num_steps)):\n",
    "        rng, key = jax.random.split(rng)\n",
    "\n",
    "        #Remake the batch every 10 steps, trying to save computation\n",
    "        if step % 10 == 0:\n",
    "            n = jax.random.randint(key, shape=(), minval=5, maxval=17)\n",
    "            batch = generate_max_retrieval_data(n, n_classes, batch_size, key)\n",
    "        else:\n",
    "            indices = jax.random.permutation(key, batch[0].shape[0])  # Shuffle indices based on the batch size when not remaking the batch\n",
    "            batch = (batch[0][indices], batch[1][indices], batch[2][indices])\n",
    "\n",
    "        # Perform training step\n",
    "        state = train_step(state, batch)\n",
    "\n",
    "        # Log progress \n",
    "        if step % 1000 == 0:\n",
    "            loss = compute_loss(state.params, state.apply_fn, batch)  # Use state.apply_fn\n",
    "            print(f\"Step {step}: Loss = {loss:.4f}\")\n",
    "\n",
    "    \n",
    "    return state\n",
    "\n",
    "# Run training\n",
    "trained_state = train_model()"
   ]
  },
  {
   "cell_type": "markdown",
   "metadata": {},
   "source": [
    "## Testing Adaptive Temperature During Inference"
   ]
  },
  {
   "cell_type": "markdown",
   "metadata": {},
   "source": [
    "Now for the fun part, we will use the paper's adaptive temperature softmax in place of the \"vanilla\" jax.nn.softmax function in the \"MultiHeadDotProductAttention\" layer...\n",
    "\n",
    "Note: we are using the paper's originally fit function mapping logit entropy to optimal temperature because I couldn't be asked to fit my own."
   ]
  },
  {
   "cell_type": "code",
   "execution_count": 13,
   "metadata": {},
   "outputs": [],
   "source": [
    "#First define the adaptive temperature softmax function from the paper\n",
    "def adaptive_temperature_softmax(logits): \n",
    "   original_probs = jax.nn.softmax(logits)\n",
    "   poly_fit = jnp.array([-0.037, 0.481, -2.3, 4.917, -1.791])  # see Figure 5\n",
    "   entropy = jnp.sum(-original_probs * jnp.log(original_probs + 1e-9), axis=-1, keepdims=True) # compute the Shannon entropy \n",
    "   beta = jnp.where( # beta = 1 / theta\n",
    "    entropy > 0.5,  # don’t overcorrect low-entropy heads\n",
    "    jnp.maximum(jnp.polyval(poly_fit, entropy), 1.0),  # never increase entropy\n",
    "    1.0)\n",
    "   return jax.nn.softmax(logits * beta)"
   ]
  },
  {
   "cell_type": "code",
   "execution_count": 14,
   "metadata": {},
   "outputs": [],
   "source": [
    "n_list = [2**i for i in range(1, 13)] # list of number of items we want to test during inference testing, here we use powers of 2 [2, 4, 8, 16, ..., 4096]\n",
    "\n",
    "def gen_inf_data(n_list, n_classes, batch_size, rng):\n",
    "    x_list, q_list, target_list = [], [], []\n",
    "    for n in n_list:\n",
    "        x, q, targets = generate_max_retrieval_data(n, n_classes, batch_size, rng)\n",
    "        x_list.append(x)\n",
    "        q_list.append(q)\n",
    "        target_list.append(targets)\n",
    "    return jnp.concatenate(x_list, axis=0), jnp.concatenate(q_list, axis=0), jnp.concatenate(target_list, axis=0)"
   ]
  },
  {
   "cell_type": "code",
   "execution_count": 15,
   "metadata": {},
   "outputs": [],
   "source": [
    "rng = jax.random.PRNGKey(10)\n",
    "rng, key = jax.random.split(rng)\n",
    "x, q, targets = gen_inf_data(n_list, 10, 2, rng)"
   ]
  },
  {
   "cell_type": "code",
   "execution_count": 16,
   "metadata": {},
   "outputs": [
    {
     "name": "stdout",
     "output_type": "stream",
     "text": [
      "(24, 4096, 11) (24, 1, 1) (24, 10)\n"
     ]
    }
   ],
   "source": [
    "print(x.shape, q.shape, targets.shape)"
   ]
  },
  {
   "cell_type": "code",
   "execution_count": 17,
   "metadata": {},
   "outputs": [],
   "source": [
    "def compute_accuracy(logits, targets):\n",
    "    \"\"\"\n",
    "    Compute classification accuracy.\n",
    "    \n",
    "    Parameters:\n",
    "        logits (jnp.ndarray): Predicted logits (batch_size, n_classes).\n",
    "        targets (jnp.ndarray): One-hot encoded true labels (batch_size, n_classes).\n",
    "    \n",
    "    Returns:\n",
    "        float: Accuracy as a percentage.\n",
    "    \"\"\"\n",
    "    predictions = jnp.argmax(logits, axis=-1)\n",
    "    true_labels = jnp.argmax(targets, axis=-1)\n",
    "    accuracy = jnp.mean(predictions == true_labels)\n",
    "    return accuracy"
   ]
  },
  {
   "cell_type": "code",
   "execution_count": 18,
   "metadata": {},
   "outputs": [],
   "source": [
    "from flax.serialization import to_bytes, from_bytes\n",
    "\n",
    "def load_model(filepath):\n",
    "    \"\"\"\n",
    "    Load JAX model parameters from a file.\n",
    "    \n",
    "    Parameters:\n",
    "        filepath (str): Path to the file where parameters are saved.\n",
    "    \n",
    "    Returns:\n",
    "        dict: Loaded model parameters.\n",
    "    \"\"\"\n",
    "    with open(filepath, 'rb') as f:\n",
    "        params = from_bytes(None, f.read())\n",
    "    return params\n"
   ]
  },
  {
   "cell_type": "code",
   "execution_count": 19,
   "metadata": {},
   "outputs": [],
   "source": [
    "# Load parameters for inference or further training\n",
    "loaded_params = load_model('model_params.pkl')"
   ]
  },
  {
   "cell_type": "markdown",
   "metadata": {},
   "source": [
    "## Inference"
   ]
  },
  {
   "cell_type": "markdown",
   "metadata": {},
   "source": [
    "Here we will test the accuracy of \"vanilla\" softmax model vs adaptive softmax model. The performance for both models will be mean averaged over 10 seeds, as per the paper."
   ]
  },
  {
   "cell_type": "code",
   "execution_count": 190,
   "metadata": {},
   "outputs": [
    {
     "name": "stdout",
     "output_type": "stream",
     "text": [
      "[11 12 13 14 15 16 17 18 19 20 21]\n"
     ]
    }
   ],
   "source": [
    "seeds = jnp.arange(11,22)\n",
    "print(seeds)"
   ]
  },
  {
   "cell_type": "code",
   "execution_count": 194,
   "metadata": {},
   "outputs": [
    {
     "name": "stdout",
     "output_type": "stream",
     "text": [
      "**********\n",
      "Number of items: 2\n",
      "Adaptive Model - Loss: 0.0228, Accuracy: 100.00%\n",
      "Vanilla Model - Loss: 0.0228, Accuracy: 100.00%\n",
      "**********\n",
      "Number of items: 4\n",
      "Adaptive Model - Loss: 0.0384, Accuracy: 98.86%\n",
      "Vanilla Model - Loss: 0.0384, Accuracy: 98.86%\n",
      "**********\n",
      "Number of items: 8\n",
      "Adaptive Model - Loss: 0.1245, Accuracy: 96.59%\n",
      "Vanilla Model - Loss: 0.1248, Accuracy: 96.59%\n",
      "**********\n",
      "Number of items: 16\n",
      "Adaptive Model - Loss: 0.2131, Accuracy: 95.74%\n",
      "Vanilla Model - Loss: 0.2111, Accuracy: 95.74%\n",
      "**********\n",
      "Number of items: 32\n",
      "Adaptive Model - Loss: 0.3944, Accuracy: 90.62%\n",
      "Vanilla Model - Loss: 0.3856, Accuracy: 90.34%\n",
      "**********\n",
      "Number of items: 64\n",
      "Adaptive Model - Loss: 0.8070, Accuracy: 80.11%\n",
      "Vanilla Model - Loss: 0.7644, Accuracy: 78.98%\n",
      "**********\n",
      "Number of items: 128\n",
      "Adaptive Model - Loss: 1.0664, Accuracy: 76.14%\n",
      "Vanilla Model - Loss: 0.9561, Accuracy: 72.73%\n",
      "**********\n",
      "Number of items: 256\n",
      "Adaptive Model - Loss: 2.0465, Accuracy: 59.94%\n",
      "Vanilla Model - Loss: 1.5774, Accuracy: 52.84%\n",
      "**********\n",
      "Number of items: 512\n",
      "Adaptive Model - Loss: 3.2439, Accuracy: 39.49%\n",
      "Vanilla Model - Loss: 2.1641, Accuracy: 35.23%\n",
      "**********\n",
      "Number of items: 1024\n",
      "Adaptive Model - Loss: 4.7728, Accuracy: 20.17%\n",
      "Vanilla Model - Loss: 2.9597, Accuracy: 17.61%\n",
      "**********\n",
      "Number of items: 2048\n",
      "Adaptive Model - Loss: 4.9703, Accuracy: 14.49%\n",
      "Vanilla Model - Loss: 3.0279, Accuracy: 13.35%\n",
      "**********\n",
      "Number of items: 4096\n",
      "Adaptive Model - Loss: 4.9381, Accuracy: 14.20%\n",
      "Vanilla Model - Loss: 2.9686, Accuracy: 12.78%\n"
     ]
    }
   ],
   "source": [
    "adaptive_model = Model(n_classes=10, n_feats=128, softmax_fnc=adaptive_temperature_softmax)\n",
    "vanilla_model = Model(n_classes=10, n_feats=128, softmax_fnc=jax.nn.softmax)\n",
    "\n",
    "params = loaded_params   #trained_state.params\n",
    "\n",
    "att_weights_ad = []\n",
    "att_weights_van = []\n",
    "\n",
    "for n in n_list:\n",
    "    van_acc, ad_acc = [], []\n",
    "    loss_adaptive, loss_vanilla = [], []\n",
    "    for seed in seeds:\n",
    "        rng = jax.random.PRNGKey(seed)\n",
    "        rng, key = jax.random.split(rng)\n",
    "        x, q, targets = generate_max_retrieval_data(n, 10, 32, key)\n",
    "        ordered = jnp.argsort(x[:, :, 0].squeeze(), axis=-1)\n",
    "\n",
    "        logits_adaptive, intermediate_adaptive = adaptive_model.apply({'params': params}, x, q, mutable=['intermediates'])\n",
    "        logits_vanilla, intermediate_vanilla = vanilla_model.apply({'params': params}, x, q, mutable=['intermediates'])\n",
    "\n",
    "        loss_adaptive.append(cross_entropy_loss(logits_adaptive, targets))\n",
    "        loss_vanilla.append(cross_entropy_loss(logits_vanilla, targets))\n",
    "\n",
    "        \n",
    "        \n",
    "        van_acc.append(compute_accuracy(logits_vanilla, targets))\n",
    "        ad_acc.append(compute_accuracy(logits_adaptive, targets))\n",
    "\n",
    "        if seed == 12:\n",
    "\n",
    "            # Reorder the attention weights based on the ordered indices\n",
    "            reordered_adaptive = jnp.take_along_axis(intermediate_adaptive['intermediates']['attention_weights'][0][:,0,0,:], ordered, axis=-1)\n",
    "            reordered_vanilla = jnp.take_along_axis(intermediate_vanilla['intermediates']['attention_weights'][0][:,0,0,:], ordered, axis=-1)\n",
    "\n",
    "            att_weights_ad.append(reordered_adaptive)\n",
    "            att_weights_van.append(reordered_vanilla)\n",
    "    \n",
    "    print('*'*10)\n",
    "    print(f\"Number of items: {n}\")\n",
    "\n",
    "    print(f\"Adaptive Model - Loss: {jnp.mean(jnp.array(loss_adaptive)):.4f}, Accuracy: {jnp.mean(jnp.array(ad_acc)) * 100:.2f}%\")\n",
    "    print(f\"Vanilla Model - Loss: {jnp.mean(jnp.array(loss_vanilla)):.4f}, Accuracy: {jnp.mean(jnp.array(van_acc)) * 100:.2f}%\")\n",
    "\n",
    "att_weights_ad = jnp.array(att_weights_ad)\n",
    "att_weights_van = jnp.array(att_weights_van)\n",
    "\n"
   ]
  },
  {
   "cell_type": "markdown",
   "metadata": {},
   "source": [
    "Cool! The adaptive temperature softmax improves the accuracy of our model as we go out-of-distribution, just like the paper! "
   ]
  },
  {
   "cell_type": "markdown",
   "metadata": {},
   "source": [
    "## Visualise the Attention Weights"
   ]
  },
  {
   "cell_type": "code",
   "execution_count": 21,
   "metadata": {},
   "outputs": [],
   "source": [
    "import treescope"
   ]
  },
  {
   "cell_type": "markdown",
   "metadata": {},
   "source": [
    "Here we will use treescope to visulaise the attention weights for one of our seed runs and compare them as the number of items increases. Hopefully we will see sharper attention for the adaptive temperature softmax!"
   ]
  },
  {
   "cell_type": "markdown",
   "metadata": {},
   "source": [
    "### Adaptive Temperature Softmax Attention Visualisation"
   ]
  },
  {
   "cell_type": "code",
   "execution_count": 22,
   "metadata": {},
   "outputs": [
    {
     "data": {
      "text/html": [
       "<script> (()=>{ if (customElements.get('treescope-container') === undefined) { class TreescopeContainer extends HTMLElement { constructor() { super(); this.attachShadow({mode: \"open\"}); this.defns = {}; this.state = {}; } } customElements.define(\"treescope-container\", TreescopeContainer); } if (customElements.get('treescope-run-here') === undefined) { class RunHere extends HTMLElement { constructor() { super() } connectedCallback() { const run = child => { const fn = new Function(child.textContent); child.textContent = \"\"; fn.call(this); this.remove(); }; const child = this.querySelector(\"script\"); if (child) { run(child); } else { new MutationObserver(()=>{ run(this.querySelector(\"script\")); }).observe(this, {childList: true}); } } } customElements.define(\"treescope-run-here\", RunHere); } })(); </script> <treescope-container class=\"treescope_out_e3f8c909de94417b83d0af55284573f1\" ></treescope-container> <treescope-run-here><script type=\"application/octet-stream\"> const root = ( Array.from(document.getElementsByClassName( \"treescope_out_e3f8c909de94417b83d0af55284573f1\")) .filter((elt) => !elt.dataset.setup) )[0]; root.dataset.setup = 1; const msg = document.createElement(\"span\"); msg.style = \"color: #cccccc; font-family: monospace;\"; msg.textContent = \"(Loading...)\"; root.state.loadingMsg = msg; root.shadowRoot.appendChild(msg); root.state.chain = new Promise((resolve, reject) => { const observer = new IntersectionObserver((entries) => { for (const entry of entries) { if (entry.isIntersecting) { resolve(); observer.disconnect(); return; } } }, {rootMargin: \"1000px\"}); window.setTimeout(() => { observer.observe(root); }, 0); }); root.state.deferring = false; const _insertNode = (node) => { for (let oldScript of node.querySelectorAll(\"script\")) { let newScript = document.createElement(\"script\"); newScript.type = oldScript.type; newScript.textContent = oldScript.textContent; oldScript.parentNode.replaceChild(newScript, oldScript); } if (root.state.loadingMsg) { root.state.loadingMsg.remove(); root.state.loadingMsg = null; } root.shadowRoot.appendChild(node); }; root.defns.insertContent = ((contentNode, compressed) => { if (compressed) { root.state.deferring = true; } if (root.state.deferring) { root.state.chain = (async () => { await root.state.chain; if (compressed) { const encoded = contentNode.textContent; const blob = new Blob([ Uint8Array.from(atob(encoded), (m) => m.codePointAt(0)) ]); const reader = blob.stream().pipeThrough( new DecompressionStream(\"deflate\") ).pipeThrough( new TextDecoderStream(\"utf-8\") ).getReader(); const parts = []; while (true) { const step = await reader.read(); if (step.done) { break; } parts.push(step.value); } const tpl = document.createElement('template'); tpl.innerHTML = parts.join(\"\"); _insertNode(tpl.content); } else { _insertNode(contentNode.content); } })(); } else { _insertNode(contentNode.content); } }); </script></treescope-run-here><div style=\"display:none\"> <script type=\"application/octet-stream\" >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</script> <treescope-run-here><script type=\"application/octet-stream\"> const root = ( Array.from(document.getElementsByClassName( \"treescope_out_e3f8c909de94417b83d0af55284573f1\")) .filter((elt) => !elt.dataset['step0']) )[0]; root.dataset['step0'] = 1; root.defns.insertContent( this.parentNode.querySelector('script[type=\"application/octet-stream\"]'), true ); this.parentNode.remove(); </script></treescope-run-here> </div>"
      ],
      "text/plain": [
       "<Arrayviz rendering>"
      ]
     },
     "execution_count": 22,
     "metadata": {},
     "output_type": "execute_result"
    }
   ],
   "source": [
    "treescope.render_array(att_weights_ad[:,:,-16:],axis_labels={0: \"log2(num_items)\", 1: \"batch\", 2: \"top_16_items\"})"
   ]
  },
  {
   "cell_type": "markdown",
   "metadata": {},
   "source": [
    "### \"Vanilla\" Softmax Attention Visualisation"
   ]
  },
  {
   "cell_type": "code",
   "execution_count": 23,
   "metadata": {},
   "outputs": [
    {
     "data": {
      "text/html": [
       "<script> (()=>{ if (customElements.get('treescope-container') === undefined) { class TreescopeContainer extends HTMLElement { constructor() { super(); this.attachShadow({mode: \"open\"}); this.defns = {}; this.state = {}; } } customElements.define(\"treescope-container\", TreescopeContainer); } if (customElements.get('treescope-run-here') === undefined) { class RunHere extends HTMLElement { constructor() { super() } connectedCallback() { const run = child => { const fn = new Function(child.textContent); child.textContent = \"\"; fn.call(this); this.remove(); }; const child = this.querySelector(\"script\"); if (child) { run(child); } else { new MutationObserver(()=>{ run(this.querySelector(\"script\")); }).observe(this, {childList: true}); } } } customElements.define(\"treescope-run-here\", RunHere); } })(); </script> <treescope-container class=\"treescope_out_acad4d8040054f8eb3822bbdc8423371\" ></treescope-container> <treescope-run-here><script type=\"application/octet-stream\"> const root = ( Array.from(document.getElementsByClassName( \"treescope_out_acad4d8040054f8eb3822bbdc8423371\")) .filter((elt) => !elt.dataset.setup) )[0]; root.dataset.setup = 1; const msg = document.createElement(\"span\"); msg.style = \"color: #cccccc; font-family: monospace;\"; msg.textContent = \"(Loading...)\"; root.state.loadingMsg = msg; root.shadowRoot.appendChild(msg); root.state.chain = new Promise((resolve, reject) => { const observer = new IntersectionObserver((entries) => { for (const entry of entries) { if (entry.isIntersecting) { resolve(); observer.disconnect(); return; } } }, {rootMargin: \"1000px\"}); window.setTimeout(() => { observer.observe(root); }, 0); }); root.state.deferring = false; const _insertNode = (node) => { for (let oldScript of node.querySelectorAll(\"script\")) { let newScript = document.createElement(\"script\"); newScript.type = oldScript.type; newScript.textContent = oldScript.textContent; oldScript.parentNode.replaceChild(newScript, oldScript); } if (root.state.loadingMsg) { root.state.loadingMsg.remove(); root.state.loadingMsg = null; } root.shadowRoot.appendChild(node); }; root.defns.insertContent = ((contentNode, compressed) => { if (compressed) { root.state.deferring = true; } if (root.state.deferring) { root.state.chain = (async () => { await root.state.chain; if (compressed) { const encoded = contentNode.textContent; const blob = new Blob([ Uint8Array.from(atob(encoded), (m) => m.codePointAt(0)) ]); const reader = blob.stream().pipeThrough( new DecompressionStream(\"deflate\") ).pipeThrough( new TextDecoderStream(\"utf-8\") ).getReader(); const parts = []; while (true) { const step = await reader.read(); if (step.done) { break; } parts.push(step.value); } const tpl = document.createElement('template'); tpl.innerHTML = parts.join(\"\"); _insertNode(tpl.content); } else { _insertNode(contentNode.content); } })(); } else { _insertNode(contentNode.content); } }); </script></treescope-run-here><div style=\"display:none\"> <script type=\"application/octet-stream\" >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</script> <treescope-run-here><script type=\"application/octet-stream\"> const root = ( Array.from(document.getElementsByClassName( \"treescope_out_acad4d8040054f8eb3822bbdc8423371\")) .filter((elt) => !elt.dataset['step0']) )[0]; root.dataset['step0'] = 1; root.defns.insertContent( this.parentNode.querySelector('script[type=\"application/octet-stream\"]'), true ); this.parentNode.remove(); </script></treescope-run-here> </div>"
      ],
      "text/plain": [
       "<Arrayviz rendering>"
      ]
     },
     "execution_count": 23,
     "metadata": {},
     "output_type": "execute_result"
    }
   ],
   "source": [
    "treescope.render_array(att_weights_van[:,:,-16:], axis_labels={0: \"log2(num_items)\", 1: \"batch\", 2: \"top_16_items\"})"
   ]
  },
  {
   "cell_type": "markdown",
   "metadata": {},
   "source": [
    "Cool! We can see clearly that the adaptive temperature softmax attentions are sharper than the \"vanilla\" softmax, especially for the out-of-distribution tasks -- jsut like the paper!"
   ]
  },
  {
   "cell_type": "markdown",
   "metadata": {},
   "source": [
    "Now we just need to think of ways to extend the paper, try other architecures without softmax? Use sigmoid attention? Other methods? Maybe you can think of some..."
   ]
  },
  {
   "cell_type": "code",
   "execution_count": 24,
   "metadata": {},
   "outputs": [],
   "source": [
    "\n",
    "\n",
    "def save_model(params, filepath):\n",
    "    \"\"\"\n",
    "    Save JAX model parameters to a file.\n",
    "    \n",
    "    Parameters:\n",
    "        params (dict): Model parameters to save.\n",
    "        filepath (str): Path to the file where parameters will be saved.\n",
    "    \"\"\"\n",
    "    with open(filepath, 'wb') as f:\n",
    "        f.write(to_bytes(params))\n",
    "\n",
    "# Save parameters after training\n",
    "save_model(trained_state.params, 'model_params.pkl')"
   ]
  }
 ],
 "metadata": {
  "kernelspec": {
   "display_name": "softmax_recreation",
   "language": "python",
   "name": "python3"
  },
  "language_info": {
   "codemirror_mode": {
    "name": "ipython",
    "version": 3
   },
   "file_extension": ".py",
   "mimetype": "text/x-python",
   "name": "python",
   "nbconvert_exporter": "python",
   "pygments_lexer": "ipython3",
   "version": "3.13.1"
  }
 },
 "nbformat": 4,
 "nbformat_minor": 2
}
